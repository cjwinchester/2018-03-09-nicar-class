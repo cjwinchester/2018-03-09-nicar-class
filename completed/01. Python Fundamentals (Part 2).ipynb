{
 "cells": [
  {
   "cell_type": "markdown",
   "metadata": {},
   "source": [
    "# Python fundamentals, part 2\n",
    "\n",
    "Importing modules, indentation, `if` statements, `for` loops."
   ]
  },
  {
   "cell_type": "markdown",
   "metadata": {},
   "source": [
    "### Importing modules\n",
    "\n",
    "You can import modules into your script -- snippets of Python code that give you access to additional functionality or variables -- from:\n",
    "- the [Python standard library](https://docs.python.org/3/library/index.html), which is part of the Python installation package\n",
    "- from your own Python files\n",
    "- and from third-party developers using a tool called [`pip`](https://docs.python.org/3/installing/index.html).\n",
    "\n",
    "A collection of modules is usually referred to as a \"package\" or \"library.\"\n",
    "\n",
    "For this class, we've pre-installed five external libraries: `jupyter`, `bs4`, `requests`, `matplotlib` and `geopy`."
   ]
  },
  {
   "cell_type": "code",
   "execution_count": null,
   "metadata": {
    "collapsed": true
   },
   "outputs": [],
   "source": [
    "# import the csv module from the Python standard library\n",
    "# https://docs.python.org/3/library/csv.html\n",
    "import csv\n",
    "\n",
    "# import the BeautifulSoup class from the (external) bs4 package\n",
    "from bs4 import BeautifulSoup\n",
    "\n",
    "# import variables from a local file, my_module.py\n",
    "# alias to `mm` using the `as` keyword\n",
    "import my_module as mm\n",
    "\n",
    "# access bits of the module with a period .\n",
    "print(mm.charlie)"
   ]
  },
  {
   "cell_type": "markdown",
   "metadata": {},
   "source": [
    "### Indentation\n",
    "\n",
    "Whitespace matters in Python. Sometimes you'll need to indent bits of code to make things work. This can be confusing! (FWIW, Jupyter will try to be helpful and insert the correct amount of \"significant whitespace\" for you.) You can use tabs or spaces, just don't mix them. [The Python style guide](https://www.python.org/dev/peps/pep-0008/) recommends indenting your code in groups of four spaces, so that's what we'll use today."
   ]
  },
  {
   "cell_type": "markdown",
   "metadata": {},
   "source": [
    "### `if` statements\n",
    "\n",
    "Just like in Excel, you can use the \"if\" keyword to handle conditional logic.\n",
    "\n",
    "These statements begin with the key word `if` (lowercase), then the condition to evaluate, then a colon, then a new line with a block of indented code to execute if the condition resolves to `True`."
   ]
  },
  {
   "cell_type": "code",
   "execution_count": null,
   "metadata": {
    "collapsed": true
   },
   "outputs": [],
   "source": [
    "if 4 < 6:\n",
    "    print('4 is less than 6')"
   ]
  },
  {
   "cell_type": "markdown",
   "metadata": {},
   "source": [
    "You can also add an `else` statement (and a colon) with an indented block of code you want to run if the condition resolves to `False`."
   ]
  },
  {
   "cell_type": "code",
   "execution_count": null,
   "metadata": {
    "collapsed": true
   },
   "outputs": [],
   "source": [
    "if 4 > 6:\n",
    "    print('4 is greater than 6?!')\n",
    "else:\n",
    "    print('4 is not greater than 6.')"
   ]
  },
  {
   "cell_type": "markdown",
   "metadata": {},
   "source": [
    "If you need to, you can add multiple conditions with `elif`."
   ]
  },
  {
   "cell_type": "code",
   "execution_count": null,
   "metadata": {
    "collapsed": true
   },
   "outputs": [],
   "source": [
    "HOME_SCORE = 6\n",
    "AWAY_SCORE = 8\n",
    "\n",
    "if HOME_SCORE > AWAY_SCORE:\n",
    "    print('we won!')\n",
    "elif HOME_SCORE == AWAY_SCORE:\n",
    "    print('we tied!')\n",
    "else:\n",
    "    print('we lost!')"
   ]
  },
  {
   "cell_type": "markdown",
   "metadata": {},
   "source": [
    "### `for` loops\n",
    "\n",
    "Use a `for` loop to iterate over a collection of things. The statement begins with the keyword `for` (lowercase) `variable_name` `in` `collection_to_iterate`, then a colon, then the indented block of code with instructions about what to do with each item in the collection. "
   ]
  },
  {
   "cell_type": "code",
   "execution_count": null,
   "metadata": {
    "collapsed": true
   },
   "outputs": [],
   "source": [
    "# let's import a list of ingredients for pico de gallo\n",
    "from my_module import pico_ingredients as pi\n",
    "\n",
    "# print the list to see what's there\n",
    "print(pi)\n",
    "\n",
    "# now use a `for` loop to iterate over the list and print each item\n",
    "# (\"ingredient\" is an arbitrary variable name)\n",
    "\n",
    "for ingredient in pi:\n",
    "    print(ingredient)"
   ]
  },
  {
   "cell_type": "code",
   "execution_count": null,
   "metadata": {
    "collapsed": true
   },
   "outputs": [],
   "source": [
    "# you can also iterate over a dictionary\n",
    "\n",
    "# let's import our puppy\n",
    "from my_module import charlie\n",
    "\n",
    "# the iterable element in a dictionary is the key\n",
    "# so I like to use that as my variable\n",
    "# --> remember! order is not guaranteed in a dict\n",
    "for key in charlie:\n",
    "    print(key, charlie[key])"
   ]
  },
  {
   "cell_type": "code",
   "execution_count": null,
   "metadata": {
    "collapsed": true
   },
   "outputs": [],
   "source": [
    "# lots of things are iterable -- you can even loop over the characters in a string!\n",
    "\n",
    "name = 'Cody Winchester'\n",
    "\n",
    "for letter in name:\n",
    "    print(letter)"
   ]
  }
 ],
 "metadata": {
  "kernelspec": {
   "display_name": "Python 3",
   "language": "python",
   "name": "python3"
  },
  "language_info": {
   "codemirror_mode": {
    "name": "ipython",
    "version": 3
   },
   "file_extension": ".py",
   "mimetype": "text/x-python",
   "name": "python",
   "nbconvert_exporter": "python",
   "pygments_lexer": "ipython3",
   "version": "3.6.4"
  }
 },
 "nbformat": 4,
 "nbformat_minor": 2
}
