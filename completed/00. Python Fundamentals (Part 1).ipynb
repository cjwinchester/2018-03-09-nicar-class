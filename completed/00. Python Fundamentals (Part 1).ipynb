{
 "cells": [
  {
   "cell_type": "markdown",
   "metadata": {},
   "source": [
    "# Python fundamentals\n",
    "\n",
    "A quick introduction to the [Python programming language](https://www.python.org/) and [Jupyter notebooks](https://jupyter.org/). ([We're using Python 3, not Python 2](https://pythonclock.org/).)"
   ]
  },
  {
   "cell_type": "markdown",
   "metadata": {},
   "source": [
    "### Basic data types and the print() function"
   ]
  },
  {
   "cell_type": "code",
   "execution_count": null,
   "metadata": {},
   "outputs": [],
   "source": [
    "# variable assignment\n",
    "# https://www.digitalocean.com/community/tutorials/how-to-use-variables-in-python-3\n",
    "\n",
    "# strings -- enclose in single or double quotes, just make sure they match\n",
    "my_name = 'Cody'\n",
    "\n",
    "# numbers\n",
    "int_num = 6\n",
    "float_num = 6.4\n",
    "\n",
    "# the print function\n",
    "print(8)\n",
    "print('Hello!')\n",
    "print(my_name)\n",
    "print(int_num)\n",
    "print(float_num)\n",
    "\n",
    "# booleans\n",
    "print(True)\n",
    "print(False)\n",
    "print(4 > 6)\n",
    "print(6 == 6)\n",
    "print('ell' in 'Hello')"
   ]
  },
  {
   "cell_type": "markdown",
   "metadata": {},
   "source": [
    "### Basic math\n",
    "\n",
    "You can do [basic math](https://www.digitalocean.com/community/tutorials/how-to-do-math-in-python-3-with-operators) with Python. (You can also do [more advanced math](https://docs.python.org/3/library/math.html).)"
   ]
  },
  {
   "cell_type": "code",
   "execution_count": null,
   "metadata": {
    "collapsed": true
   },
   "outputs": [],
   "source": [
    "# addition\n",
    "add_eq = 4 + 2\n",
    "\n",
    "# subtraction\n",
    "sub_eq = 4 - 2\n",
    "\n",
    "# multiplication\n",
    "mult_eq = 4 * 2\n",
    "\n",
    "# division\n",
    "div_eq = 4 / 2\n",
    "\n",
    "# etc."
   ]
  },
  {
   "cell_type": "markdown",
   "metadata": {},
   "source": [
    "### Lists\n",
    "\n",
    "A comma-separated collection of items between square brackets: `[]`. Python keeps track of the order of things inside a list."
   ]
  },
  {
   "cell_type": "code",
   "execution_count": null,
   "metadata": {
    "collapsed": true
   },
   "outputs": [],
   "source": [
    "# create a list: name, hometown, age\n",
    "# an item's position in the list is the key thing\n",
    "cody = ['Cody', 'Midvale, WY', 32]\n",
    "\n",
    "# create another list of mixed data\n",
    "my_list = [1, 2, 3, 'hello', True, ['a', 'b', 'c']]\n",
    "\n",
    "# use len() to get the number of items in the list\n",
    "my_list_count = len(my_list)\n",
    "\n",
    "print('There are', my_list_count, 'items in my list.')\n",
    "\n",
    "# use square brackets [] to access items in a list\n",
    "# (counting starts at zero in Python)\n",
    "\n",
    "# get the first item\n",
    "first_item = my_list[0]\n",
    "print(first_item)\n",
    "\n",
    "# you can do negative indexing to get items from the end of your list\n",
    "\n",
    "# get the last item\n",
    "last_item = my_list[-1]\n",
    "print(last_item)\n",
    "\n",
    "# Use colons to get a range of items in a list\n",
    "\n",
    "# get the first two items\n",
    "# the last number in a list slice is the first list item that's ~not~ included in the result\n",
    "my_range = my_list[0:2]\n",
    "print(my_range)\n",
    "\n",
    "# if you leave the last number off, it takes the item at the first number's index and everything afterward\n",
    "# get everything from the third item onward\n",
    "my_open_range = my_list[2:]\n",
    "print(my_open_range)\n",
    "\n",
    "# Use append() to add things to a list\n",
    "my_list.append(5)\n",
    "print(my_list)\n",
    "\n",
    "# Use pop() to remove items from the end of a list\n",
    "my_list.pop()\n",
    "print(my_list)\n",
    "\n",
    "# use join() to join items from a list into a string with a delimiter of your choosing\n",
    "letter_list = ['a', 'b', 'c']\n",
    "joined_list = '-'.join(letter_list)\n",
    "print(joined_list)"
   ]
  },
  {
   "cell_type": "markdown",
   "metadata": {},
   "source": [
    "### Dictionaries\n",
    "\n",
    "A data structure that maps _keys_ to _values_ inside curly brackets: `{}`. Items in the dictionary are separated by commas. Python does not keep track of the order of items in a dictionary; if you need to keep track of insertion order, use an [OrderedDict](https://docs.python.org/3/library/collections.html#collections.OrderedDict) instead."
   ]
  },
  {
   "cell_type": "code",
   "execution_count": null,
   "metadata": {},
   "outputs": [],
   "source": [
    "my_dict = {'name': 'Cody', 'title': 'Training director', 'organization': 'IRE'}\n",
    "\n",
    "# Access items in a dictionary using square brackets and the key (typically a string)\n",
    "my_name = my_dict['name']\n",
    "print(my_name)\n",
    "\n",
    "# You can also use the `get()` method to retrieve values\n",
    "# you can optionally provide a second argument as the default value\n",
    "# if the key doesn't exist (otherwise defaults to `None`)\n",
    "my_name = my_dict.get('name', 'Jefferson Humperdink')\n",
    "print(my_name)\n",
    "\n",
    "# Use the .keys() method to get the keys of a dictionary\n",
    "print(my_dict.keys())\n",
    "\n",
    "# Use the .values() method to get the values\n",
    "print(my_dict.values())\n",
    "\n",
    "# add items to a dictionary using square brackets, the name of the key (typically a string)\n",
    "# and set the value like you'd set a variable, with =\n",
    "my_dict['my_age'] = 32\n",
    "print(my_dict)\n",
    "\n",
    "# delete an item from a dictionary with `del`\n",
    "del my_dict['my_age']\n",
    "print(my_dict)"
   ]
  },
  {
   "cell_type": "markdown",
   "metadata": {},
   "source": [
    "### Commenting your code\n",
    "\n",
    "Python skips lines that begin with a hashtag # -- these lines are used to write comments to help explain the code to others (and to your future self).\n",
    "\n",
    "Multi-line comments are enclosed between triple quotes: \"\"\"   \"\"\""
   ]
  },
  {
   "cell_type": "code",
   "execution_count": null,
   "metadata": {
    "collapsed": true
   },
   "outputs": [],
   "source": [
    "# this is a one-line comment\n",
    "\n",
    "\"\"\"\n",
    "This is a \n",
    "multi-line comment\n",
    "\n",
    "~~~\n",
    "\n",
    "\"\"\""
   ]
  },
  {
   "cell_type": "markdown",
   "metadata": {},
   "source": [
    "### Comparison operators\n",
    "\n",
    "When you want to [compare values](https://docs.python.org/3/reference/expressions.html#value-comparisons), you can use these symbols:\n",
    "\n",
    "- `<` means less than\n",
    "- `>` means greater than\n",
    "- `==` means equal\n",
    "- `>=` means greater than or equal\n",
    "- `<=` means less than or equal\n",
    "- `!=` means not equal"
   ]
  },
  {
   "cell_type": "code",
   "execution_count": null,
   "metadata": {
    "collapsed": true
   },
   "outputs": [],
   "source": [
    "4 > 6\n",
    "\n",
    "'Hello!' == 'Hello!'\n",
    "\n",
    "(2 + 2) != (4 * 2)\n",
    "\n",
    "100.2 >= 100"
   ]
  },
  {
   "cell_type": "markdown",
   "metadata": {},
   "source": [
    "### String functions\n",
    "\n",
    "Python has a number of built-in methods to work with strings. They're useful if, say, you're using Python to clean data. Here are a few of them:"
   ]
  },
  {
   "cell_type": "markdown",
   "metadata": {},
   "source": [
    "#### _strip()_\n",
    "\n",
    "Call `strip()` on a string to remove whitespace from either side. It's like using the `=TRIM()` function in Excel."
   ]
  },
  {
   "cell_type": "code",
   "execution_count": null,
   "metadata": {
    "collapsed": true
   },
   "outputs": [],
   "source": [
    "whitespace_str = '    hello!      '\n",
    "print(whitespace_str.strip())"
   ]
  },
  {
   "cell_type": "markdown",
   "metadata": {},
   "source": [
    "#### _upper()_ and _lower()_\n",
    "\n",
    "Call `.upper()` on a string to make the characters uppercase. Call `.lower()` on a string to make the characters lowercase. This can be useful when testing strings for equality."
   ]
  },
  {
   "cell_type": "code",
   "execution_count": null,
   "metadata": {
    "collapsed": true
   },
   "outputs": [],
   "source": [
    "my_name = 'Cody'\n",
    "\n",
    "my_name_upper = my_name.upper()\n",
    "print(my_name_upper)\n",
    "\n",
    "my_name_lower = my_name.lower()\n",
    "print(my_name_lower)"
   ]
  },
  {
   "cell_type": "markdown",
   "metadata": {},
   "source": [
    "#### _replace()_\n",
    "\n",
    "Use `.replace()` to substitute bits of text."
   ]
  },
  {
   "cell_type": "code",
   "execution_count": null,
   "metadata": {
    "collapsed": true
   },
   "outputs": [],
   "source": [
    "company = 'Bausch & Lomb'\n",
    "\n",
    "company_no_ampersand = company.replace('&', 'and')\n",
    "\n",
    "print(company_no_ampersand)"
   ]
  },
  {
   "cell_type": "markdown",
   "metadata": {},
   "source": [
    "#### _split()_\n",
    "\n",
    "Use `.split()` to split a string on some delimiter. If you don't specify a delimiter, it uses a single space as the default."
   ]
  },
  {
   "cell_type": "code",
   "execution_count": null,
   "metadata": {
    "collapsed": true
   },
   "outputs": [],
   "source": [
    "date = '6/4/2011'\n",
    "\n",
    "date_split = date.split('/')\n",
    "\n",
    "print(date_split)"
   ]
  },
  {
   "cell_type": "markdown",
   "metadata": {},
   "source": [
    "#### _zfill()_\n",
    "\n",
    "Among other things, you can use `.zfill()` to add zero padding -- for instance, if you're working with ZIP code data that was saved as a number somewhere and you've lost the leading zeroes for that handful of ZIP codes that begin with 0.\n",
    "\n",
    "_Note: `.zfill()` is a string method, so if you want to apply it to a number, you'll need to first coerce it to a string with `str()`._"
   ]
  },
  {
   "cell_type": "code",
   "execution_count": null,
   "metadata": {
    "collapsed": true
   },
   "outputs": [],
   "source": [
    "mangled_zip = '2301'\n",
    "fixed_zip = mangled_zip.zfill(5)\n",
    "print(fixed_zip)\n",
    "\n",
    "num_zip = 2301\n",
    "fixed_num_zip = str(num_zip).zfill(5)\n",
    "print(fixed_num_zip)"
   ]
  },
  {
   "cell_type": "markdown",
   "metadata": {},
   "source": [
    "#### _slicing_\n",
    "\n",
    "Like lists, strings are _iterables_, so you can use slicing to grab chunks."
   ]
  },
  {
   "cell_type": "code",
   "execution_count": null,
   "metadata": {
    "collapsed": true
   },
   "outputs": [],
   "source": [
    "my_string = 'supercalifragilisticexpialidocious'\n",
    "\n",
    "chunk = my_string[9:20]\n",
    "\n",
    "print(chunk)"
   ]
  },
  {
   "cell_type": "markdown",
   "metadata": {},
   "source": [
    "#### _startswith()_, _endswith()_ and _in_\n",
    "\n",
    "If you need to test whether a string starts with a series of characters, use `.startswith()`. If you need to test whether a string ends with a series of characters, use `.endswith()`. If you need to test whether a string is part of another string -- or a list of strings -- use `.in()`.\n",
    "\n",
    "These are case sensitive, so you'd typically `.upper()` or `.lower()` the strings you're comparing to ensure an apples-to-apples comparison."
   ]
  },
  {
   "cell_type": "code",
   "execution_count": null,
   "metadata": {
    "collapsed": true
   },
   "outputs": [],
   "source": [
    "str_to_test = 'hello'\n",
    "\n",
    "print(str_to_test.startswith('hel'))\n",
    "print(str_to_test.endswith('lo'))\n",
    "print('el' in str_to_test)\n",
    "print(str_to_test in ['hi', 'whatsup', 'salutations', 'hello'])"
   ]
  },
  {
   "cell_type": "markdown",
   "metadata": {},
   "source": [
    "### String formatting\n",
    "\n",
    "Using curly brackets with the [various options](https://pyformat.info/) available to the `.format()` method, you can create string templates for your data. Some examples:"
   ]
  },
  {
   "cell_type": "code",
   "execution_count": null,
   "metadata": {
    "collapsed": true
   },
   "outputs": [],
   "source": [
    "# date in m/d/yyyy format\n",
    "in_date = '8/17/1982'\n",
    "\n",
    "# split out individual pieces of the date\n",
    "# using a shortcut method to assign variables to the resulting list\n",
    "month, day, year = in_date.split('/')\n",
    "\n",
    "# reshuffle as yyyy-mm-dd using .format()\n",
    "# use a formatting option (:0>2) to left-pad month/day numbers with a zero\n",
    "out_date = '{}-{:0>2}-{:0>2}'.format(year, month, day)\n",
    "\n",
    "print(out_date)"
   ]
  },
  {
   "cell_type": "code",
   "execution_count": null,
   "metadata": {
    "collapsed": true
   },
   "outputs": [],
   "source": [
    "# construct a greeting template\n",
    "greeting = 'Hello, {}! My name is {}.'\n",
    "your_name = 'Pat'\n",
    "my_name = 'Cody'\n",
    "\n",
    "print(greeting.format(your_name, my_name))"
   ]
  },
  {
   "cell_type": "markdown",
   "metadata": {},
   "source": [
    "### Type coercion\n",
    "\n",
    "Consider:\n",
    "\n",
    "```python\n",
    "# this is a number, can't do string-y things to it\n",
    "age = 32\n",
    "\n",
    "# this is a string, can't do number-y things to it\n",
    "age = '32'\n",
    "```\n",
    "There are several functions you can use to _coerce_ a value of one type to a value of another type. Here are a couple of them:\n",
    "\n",
    "- `int()` tries to convert to an integer\n",
    "- `str()` tries to convert to a string\n",
    "- `float()` tries to convert to a float"
   ]
  },
  {
   "cell_type": "code",
   "execution_count": null,
   "metadata": {
    "collapsed": true
   },
   "outputs": [],
   "source": [
    "# two strings of numbers\n",
    "num_1 = '100'\n",
    "num_2 = '200'\n",
    "\n",
    "# what happens when you add them without coercing?\n",
    "concat = num_1 + num_2\n",
    "print(concat)\n",
    "\n",
    "# coerce to integer, then add them\n",
    "added = int(num_1) + int(num_2)\n",
    "print(added)"
   ]
  }
 ],
 "metadata": {
  "kernelspec": {
   "display_name": "Python 3",
   "language": "python",
   "name": "python3"
  },
  "language_info": {
   "codemirror_mode": {
    "name": "ipython",
    "version": 3
   },
   "file_extension": ".py",
   "mimetype": "text/x-python",
   "name": "python",
   "nbconvert_exporter": "python",
   "pygments_lexer": "ipython3",
   "version": "3.6.4"
  }
 },
 "nbformat": 4,
 "nbformat_minor": 2
}
