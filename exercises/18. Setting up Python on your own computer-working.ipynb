{
 "cells": [
  {
   "cell_type": "markdown",
   "metadata": {},
   "source": [
    "# Setting up Python on your own computer\n",
    "\n",
    "We're going to walk through the steps needed to install all of the components used during this boot camp -- mainly, Python 3, `virtualenv` and `virtualenvwrapper`. If you get stuck, [please contact me](mailto:cody@ire.org) and I'll help you get things sorted out.\n",
    "\n",
    "For Mac/Linux, we're going to mostly follow [Kenneth Reitz's excellent Python installation guides](http://docs.python-guide.org/en/latest/starting/installation/). For PCs, we'll be working through [Anthony DeBarros's guide to installing Python on Windows](http://www.anthonydebarros.com/2015/08/16/setting-up-python-in-windows-10/)."
   ]
  },
  {
   "cell_type": "markdown",
   "metadata": {},
   "source": [
    "## Other resources:\n",
    "\n",
    "- [The Hitchhiker's Guide to Python](http://docs.python-guide.org/en/latest/)\n",
    "- [Think Python](http://www.greenteapress.com/thinkpython/html/index.html)\n",
    "- [Useful pandas snippets](http://www.swegler.com/becky/blog/2014/08/06/useful-pandas-snippets/)\n",
    "- [First Python Notebook tutorial](http://www.firstpythonnotebook.org/)\n",
    "- [Codecademy's Python lessons](https://www.codecademy.com/learn/learn-python)\n",
    "- [The Python style guide](https://www.python.org/dev/peps/pep-0008/)"
   ]
  },
  {
   "cell_type": "code",
   "execution_count": null,
   "metadata": {
    "collapsed": true
   },
   "outputs": [],
   "source": []
  }
 ],
 "metadata": {
  "kernelspec": {
   "display_name": "Python 3",
   "language": "python",
   "name": "python3"
  },
  "language_info": {
   "codemirror_mode": {
    "name": "ipython",
    "version": 3
   },
   "file_extension": ".py",
   "mimetype": "text/x-python",
   "name": "python",
   "nbconvert_exporter": "python",
   "pygments_lexer": "ipython3",
   "version": "3.6.2"
  }
 },
 "nbformat": 4,
 "nbformat_minor": 2
}
