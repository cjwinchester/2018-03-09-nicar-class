{
 "cells": [
  {
   "cell_type": "markdown",
   "metadata": {},
   "source": [
    "# Let's scrape a practice table\n",
    "\n",
    "The latest Mountain Goats album is called [Goths](https://pitchfork.com/reviews/albums/23153-goths/). (It's good!) I made a simple HTML table with the track listing -- let's scrape it into a CSV."
   ]
  },
  {
   "cell_type": "markdown",
   "metadata": {},
   "source": [
    "### Import the modules we'll need"
   ]
  },
  {
   "cell_type": "code",
   "execution_count": null,
   "metadata": {
    "collapsed": true
   },
   "outputs": [],
   "source": []
  },
  {
   "cell_type": "markdown",
   "metadata": {},
   "source": [
    "### Read in the file, see what we're working with\n",
    "\n",
    "We'll use the `read()` method to get the contents of the file."
   ]
  },
  {
   "cell_type": "code",
   "execution_count": null,
   "metadata": {
    "collapsed": true
   },
   "outputs": [],
   "source": [
    "# in a with block, open the HTML file\n",
    "\n",
    "    \n",
    "    # .read() in the contents of a file -- it'll be a string\n",
    "\n",
    "\n",
    "    # print the string to see what's there\n"
   ]
  },
  {
   "cell_type": "markdown",
   "metadata": {},
   "source": [
    "### Parse the table with BeautifulSoup\n",
    "\n",
    "Right now, Python isn't interpreting our table as _data_ -- it's just a string. We need to use BeautifulSoup to parse that string into data objects that Python can understand. Once the string is parsed, we'll be working with a \"tree\" of data that we can navigate."
   ]
  },
  {
   "cell_type": "code",
   "execution_count": null,
   "metadata": {
    "collapsed": true
   },
   "outputs": [],
   "source": [
    "\n",
    "\n",
    "    \n",
    "    # use the type() function to see what kind of object `html_code` is\n",
    "\n",
    "    \n",
    "    # feed the file's contents (the string of HTML) to BeautifulSoup\n",
    "    # will complain if you don't specify the parser\n",
    "\n",
    "\n",
    "    # use the type() function to see what kind of object `soup` is\n"
   ]
  },
  {
   "cell_type": "markdown",
   "metadata": {},
   "source": [
    "### Decide how to target the table\n",
    "\n",
    "BeautifulSoup has several methods for targeting elements -- by position on the page, by attribute, etc. Right now we just want to find the correct table."
   ]
  },
  {
   "cell_type": "code",
   "execution_count": null,
   "metadata": {
    "collapsed": true
   },
   "outputs": [],
   "source": [
    "\n",
    "    \n",
    "    # by position on the page\n",
    "    # find_all returns a list of matching elements, and we want the second ([1]) one\n",
    "\n",
    "    \n",
    "    # by class name\n",
    "    # => with `find`, you can pass a dictionary of element attributes to match on\n",
    "\n",
    "    \n",
    "    # by ID\n",
    "\n",
    "    \n",
    "    # by style\n",
    "\n",
    "    \n"
   ]
  },
  {
   "cell_type": "markdown",
   "metadata": {},
   "source": [
    "### Looping over the table rows\n",
    "\n",
    "Let's print a list of track numbers and song titles. Look at the structure of the table -- a table has rows represented by the tag `tr`, and within each row there are cells represented by `td` tags. The `find_all()` method returns a list. And we know how to iterate over lists: with a for loop. Let's do that."
   ]
  },
  {
   "cell_type": "code",
   "execution_count": null,
   "metadata": {
    "collapsed": true
   },
   "outputs": [],
   "source": [
    "\n",
    "\n",
    "\n",
    "    \n",
    "    # find the rows in the table\n",
    "    # slice to skip the header row\n",
    "\n",
    "    \n",
    "    # loop over the rows\n",
    "\n",
    "\n",
    "        # get the table cells in the row\n",
    "\n",
    "        \n",
    "        # assign them to variables\n",
    "\n",
    "        \n",
    "        # use the .string attribute to get the text in the cell\n"
   ]
  },
  {
   "cell_type": "markdown",
   "metadata": {},
   "source": [
    "### Write data to file\n",
    "\n",
    "Let's put it all together and open a file to write the data to."
   ]
  },
  {
   "cell_type": "code",
   "execution_count": null,
   "metadata": {
    "collapsed": true
   },
   "outputs": [],
   "source": [
    "\n",
    "\n",
    "\n",
    "\n",
    "    \n",
    "\n",
    "    \n",
    "    # set up a writer object\n",
    "\n",
    "    \n",
    "\n",
    "    \n",
    "\n",
    "\n",
    "        # get the table cells in the row\n",
    "\n",
    "        \n",
    "        # assign them to variables\n",
    "\n",
    "        \n",
    "        # write out the dictionary to file\n"
   ]
  }
 ],
 "metadata": {
  "kernelspec": {
   "display_name": "Python 3",
   "language": "python",
   "name": "python3"
  },
  "language_info": {
   "codemirror_mode": {
    "name": "ipython",
    "version": 3
   },
   "file_extension": ".py",
   "mimetype": "text/x-python",
   "name": "python",
   "nbconvert_exporter": "python",
   "pygments_lexer": "ipython3",
   "version": "3.6.2"
  }
 },
 "nbformat": 4,
 "nbformat_minor": 2
}
