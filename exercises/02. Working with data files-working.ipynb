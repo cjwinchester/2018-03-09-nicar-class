{
 "cells": [
  {
   "cell_type": "markdown",
   "metadata": {},
   "source": [
    "# Working with data files\n",
    "\n",
    "Reading and writing data files is a common task, and Python offers native support for working with many kinds of data files. Today, we're going to be working mainly with CSVs."
   ]
  },
  {
   "cell_type": "markdown",
   "metadata": {},
   "source": [
    "### Import the csv module\n",
    "\n",
    "We're going to be working with delimited text files, so the first thing we need to do is import this functionality from the standard library."
   ]
  },
  {
   "cell_type": "code",
   "execution_count": null,
   "metadata": {
    "collapsed": true
   },
   "outputs": [],
   "source": []
  },
  {
   "cell_type": "markdown",
   "metadata": {},
   "source": [
    "### Opening a file to read the contents\n",
    "\n",
    "We're going to use something called a [`with`](https://docs.python.org/3/reference/compound_stmts.html#with) statement to open a file and read the contents. The `open()` function takes at least two arguments: The path to the file you're opening and what [\"mode\"](https://docs.python.org/3/library/functions.html#open) you're opening it in.\n",
    "\n",
    "To start with, we're going to use the `'r'` mode to read the data. We'll use the default arguments for delimiter -- comma -- and we don't need to specify a quote character.\n",
    "\n",
    "**Important:** If you open a data file in `w` (write) mode, anything that's already in the file will be erased.\n",
    "\n",
    "The file we're using -- MLB roster data from 2017 -- lives at `data/mlb.csv`.\n",
    "\n",
    "Once we have the file open, we're going to use some functionality from the `csv` module to iterate over the lines of data and print each one.\n",
    "\n",
    "Specifically, we're going to use the `csv.reader` method, which returns a list of lines in the data file. Each line, in turn, is a list of the \"cells\" of data in that line.\n",
    "\n",
    "Then we're going to loop over the lines of data and print each line. We can also use bracket notation to retrieve elements from inside each line of data."
   ]
  },
  {
   "cell_type": "code",
   "execution_count": null,
   "metadata": {
    "collapsed": true
   },
   "outputs": [],
   "source": [
    "# open the MLB data file `as` mlb\n",
    "\n",
    "    \n",
    "    # create a reader object\n",
    "\n",
    "    \n",
    "    # loop over the rows in the file\n",
    "\n",
    "        \n",
    "        # assign variables to each element in the row (shortcut!)\n",
    "\n",
    "        \n",
    "        # print the row, which is a list\n"
   ]
  },
  {
   "cell_type": "markdown",
   "metadata": {},
   "source": [
    "### Simple filtering\n",
    "\n",
    "If you wanted to filter your data, you could use an `if` statement inside your `with` block."
   ]
  },
  {
   "cell_type": "code",
   "execution_count": null,
   "metadata": {
    "collapsed": true
   },
   "outputs": [],
   "source": [
    "# open the MLB data file `as` mlb\n",
    "\n",
    "    \n",
    "    # create a reader object\n",
    "\n",
    "\n",
    "    # move past the header row\n",
    "\n",
    "    \n",
    "    # loop over the rows in the file\n",
    "\n",
    "\n",
    "        # assign variables to each element in the row (shortcut!)\n",
    "\n",
    "        \n",
    "        # print the line of data ~only~ if the player is on the Twins\n",
    "\n",
    "        \n",
    "            # print the row, which is a list\n"
   ]
  },
  {
   "cell_type": "markdown",
   "metadata": {},
   "source": [
    "### _Exercise_\n",
    "\n",
    "Read in the MLB data, print only the names and salaries of players who make at least $1 million. (Hint: Use type coercion!)"
   ]
  },
  {
   "cell_type": "code",
   "execution_count": null,
   "metadata": {
    "collapsed": true
   },
   "outputs": [],
   "source": [
    "# open the MLB data file `as` mlb\n",
    "\n",
    "    \n",
    "    # create a reader object\n",
    "\n",
    "    \n",
    "    # move past the header row\n",
    "\n",
    "    \n",
    "    # loop over the rows in the file\n",
    "\n",
    "\n",
    "        # assign variables to each element in the row (shortcut!)\n",
    "\n",
    "        \n",
    "        # print the line of data ~only~ if the player is on the Twins\n",
    "\n",
    "        \n",
    "            # print the row, which is a list\n"
   ]
  },
  {
   "cell_type": "markdown",
   "metadata": {},
   "source": [
    "### DictReader: Another way to read CSV files\n",
    "\n",
    "Sometimes it's more convenient to work with data files as a list of dictionaries instead of a list of lists. That way, you don't have to remember the position of each \"column\" of data -- you can just reference the column name. To do it, we'll use a `csv.DictReader` object instead of a `csv.reader` object. Otherwise the code is much the same."
   ]
  },
  {
   "cell_type": "code",
   "execution_count": null,
   "metadata": {
    "collapsed": true
   },
   "outputs": [],
   "source": [
    "# open the MLB data file `as` mlb\n",
    "\n",
    "    \n",
    "    # create a reader object\n",
    "\n",
    "    \n",
    "    # loop over the rows in the file\n",
    "\n",
    "\n",
    "        # print just the player's name (the column header is \"NAME\")\n"
   ]
  },
  {
   "cell_type": "markdown",
   "metadata": {},
   "source": [
    "### Writing to CSV files\n",
    "\n",
    "You can also use the `csv` module to _create_ csv files -- same idea, you just need to change the mode to `'w'`. As with reading, there's a list-based writing method and a dictionary-based method."
   ]
  },
  {
   "cell_type": "code",
   "execution_count": null,
   "metadata": {
    "collapsed": true
   },
   "outputs": [],
   "source": [
    "# define the column names\n",
    "\n",
    "\n",
    "# let's make a few rows of data to write\n",
    "\n",
    "\n",
    "# open an output file in write mode\n",
    "\n",
    "    \n",
    "    # create a writer object\n",
    "\n",
    "    \n",
    "    # write the header row\n",
    "\n",
    "    \n",
    "    # loop over the data and write to file\n"
   ]
  },
  {
   "cell_type": "markdown",
   "metadata": {},
   "source": [
    "### Using DictWriter to write data\n",
    "\n",
    "Similar to using the list-based method, except that you need to ensure that the keys in your dictionaries of data match exactly a list of fieldnames."
   ]
  },
  {
   "cell_type": "code",
   "execution_count": null,
   "metadata": {
    "collapsed": true
   },
   "outputs": [],
   "source": [
    "# define the column names\n",
    "\n",
    "\n",
    "# let's make a few rows of data to write\n",
    "\n",
    "# open an output file in write mode\n",
    "\n",
    "    \n",
    "    # create a writer object -- pass the list of column names to the `fieldnames` keyword argument\n",
    "\n",
    "    \n",
    "    # use the writeheader method to write the header row\n",
    "\n",
    "    \n",
    "    # loop over the data and write to file\n"
   ]
  },
  {
   "cell_type": "markdown",
   "metadata": {
    "collapsed": true
   },
   "source": [
    "### You can open multiple files for reading/writing\n",
    "\n",
    "Sometimes you want to open multiple files at the same time. One thing you might want to do: Opening a file of raw data in read mode, clean each row in a loop and write out the clean data to a new file.\n",
    "\n",
    "You can open multiple files in the same `with` block -- just separate your `open()` functions with a comma.\n",
    "\n",
    "For this example, we're not going to do any cleaning -- we're just going to copy the contents of one file to another."
   ]
  },
  {
   "cell_type": "code",
   "execution_count": null,
   "metadata": {
    "collapsed": true
   },
   "outputs": [],
   "source": [
    "# open the MLB data file `as` mlb\n",
    "# also, open `mlb-copy.csv` to write to\n",
    "\n",
    "    \n",
    "    # create a reader object\n",
    "\n",
    "    \n",
    "    # create a writer object\n",
    "    # we're going to use the `fieldnames` attribute of the DictReader object\n",
    "    # as our output headers, as well\n",
    "    # b/c we're basically just making a copy\n",
    "\n",
    "    \n",
    "    # write header row\n",
    "\n",
    "    \n",
    "    # loop over the rows in the file\n",
    "\n",
    "        \n",
    "        # what type of object is `row`?\n",
    "        # how would we find out?\n",
    "        \n",
    "        # write row to output file\n"
   ]
  }
 ],
 "metadata": {
  "kernelspec": {
   "display_name": "Python 3",
   "language": "python",
   "name": "python3"
  },
  "language_info": {
   "codemirror_mode": {
    "name": "ipython",
    "version": 3
   },
   "file_extension": ".py",
   "mimetype": "text/x-python",
   "name": "python",
   "nbconvert_exporter": "python",
   "pygments_lexer": "ipython3",
   "version": "3.6.2"
  }
 },
 "nbformat": 4,
 "nbformat_minor": 2
}
