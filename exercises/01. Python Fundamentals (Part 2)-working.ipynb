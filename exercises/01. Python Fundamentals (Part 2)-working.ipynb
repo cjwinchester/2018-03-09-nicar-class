{
 "cells": [
  {
   "cell_type": "markdown",
   "metadata": {},
   "source": [
    "# Python fundamentals, part 2\n",
    "\n",
    "Importing modules, indentation, `if` statements, `for` loops."
   ]
  },
  {
   "cell_type": "markdown",
   "metadata": {},
   "source": [
    "### Importing modules\n",
    "\n",
    "You can import modules into your script -- snippets of Python code that give you access to additional functionality or variables -- from:\n",
    "- the [Python standard library](https://docs.python.org/3/library/index.html), which is part of the Python installation package\n",
    "- from your own Python files\n",
    "- and from third-party developers using a tool called [`pip`](https://docs.python.org/3/installing/index.html).\n",
    "\n",
    "A collection of modules is usually referred to as a \"package\" or \"library.\"\n",
    "\n",
    "For this class, we've pre-installed five external libraries: `jupyter`, `bs4`, `requests`, `matplotlib` and `geopy`."
   ]
  },
  {
   "cell_type": "code",
   "execution_count": null,
   "metadata": {
    "collapsed": true
   },
   "outputs": [],
   "source": [
    "# import the csv module from the Python standard library\n",
    "# https://docs.python.org/3/library/csv.html\n",
    "\n",
    "\n",
    "# import the BeautifulSoup class from the (external) bs4 package\n",
    "\n",
    "\n",
    "# import variables from a local file, my_module.py\n",
    "# alias to `mm` using the `as` keyword\n",
    "\n",
    "\n",
    "# access bits of the module with a period .\n"
   ]
  },
  {
   "cell_type": "markdown",
   "metadata": {},
   "source": [
    "### Indentation\n",
    "\n",
    "Whitespace matters in Python. Sometimes you'll need to indent bits of code to make things work. This can be confusing! (FWIW, Jupyter will try to be helpful and insert the correct amount of \"significant whitespace\" for you.) You can use tabs or spaces, just don't mix them. [The Python style guide](https://www.python.org/dev/peps/pep-0008/) recommends indenting your code in groups of four spaces, so that's what we'll use today."
   ]
  },
  {
   "cell_type": "markdown",
   "metadata": {},
   "source": [
    "### `if` statements\n",
    "\n",
    "Just like in Excel, you can use the \"if\" keyword to handle conditional logic.\n",
    "\n",
    "These statements begin with the key word `if` (lowercase), then the condition to evaluate, then a colon, then a new line with a block of indented code to execute if the condition resolves to `True`."
   ]
  },
  {
   "cell_type": "code",
   "execution_count": null,
   "metadata": {
    "collapsed": true
   },
   "outputs": [],
   "source": []
  },
  {
   "cell_type": "markdown",
   "metadata": {},
   "source": [
    "You can also add an `else` statement (and a colon) with an indented block of code you want to run if the condition resolves to `False`."
   ]
  },
  {
   "cell_type": "code",
   "execution_count": null,
   "metadata": {
    "collapsed": true
   },
   "outputs": [],
   "source": []
  },
  {
   "cell_type": "markdown",
   "metadata": {},
   "source": [
    "If you need to, you can add multiple conditions with `elif`."
   ]
  },
  {
   "cell_type": "code",
   "execution_count": null,
   "metadata": {
    "collapsed": true
   },
   "outputs": [],
   "source": []
  },
  {
   "cell_type": "markdown",
   "metadata": {},
   "source": [
    "### `for` loops\n",
    "\n",
    "Use a `for` loop to iterate over a collection of things. The statement begins with the keyword `for` (lowercase) `variable_name` `in` `collection_to_iterate`, then a colon, then the indented block of code with instructions about what to do with each item in the collection. "
   ]
  },
  {
   "cell_type": "code",
   "execution_count": null,
   "metadata": {
    "collapsed": true
   },
   "outputs": [],
   "source": [
    "# let's import a list of ingredients for pico de gallo\n",
    "\n",
    "\n",
    "# print the list to see what's there\n",
    "\n",
    "\n",
    "# now use a `for` loop to iterate over the list and print each item\n",
    "# (\"ingredient\" is an arbitrary variable name)\n",
    "\n"
   ]
  },
  {
   "cell_type": "code",
   "execution_count": null,
   "metadata": {
    "collapsed": true
   },
   "outputs": [],
   "source": [
    "# you can also iterate over a dictionary\n",
    "\n",
    "# let's import our puppy\n",
    "\n",
    "\n",
    "# the iterable element in a dictionary is the key\n",
    "# so I like to use that as my variable\n",
    "# --> remember! order is not guaranteed in a dict\n"
   ]
  },
  {
   "cell_type": "code",
   "execution_count": null,
   "metadata": {
    "collapsed": true
   },
   "outputs": [],
   "source": [
    "# lots of things are iterable -- you can even loop over the characters in a string!\n",
    "\n"
   ]
  }
 ],
 "metadata": {
  "kernelspec": {
   "display_name": "Python 3",
   "language": "python",
   "name": "python3"
  },
  "language_info": {
   "codemirror_mode": {
    "name": "ipython",
    "version": 3
   },
   "file_extension": ".py",
   "mimetype": "text/x-python",
   "name": "python",
   "nbconvert_exporter": "python",
   "pygments_lexer": "ipython3",
   "version": "3.6.2"
  }
 },
 "nbformat": 4,
 "nbformat_minor": 2
}
