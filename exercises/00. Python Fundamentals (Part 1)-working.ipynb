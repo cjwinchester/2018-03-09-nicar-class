{
 "cells": [
  {
   "cell_type": "markdown",
   "metadata": {},
   "source": [
    "# Python fundamentals\n",
    "\n",
    "A quick introduction to the [Python programming language](https://www.python.org/) and [Jupyter notebooks](https://jupyter.org/). ([We're using Python 3, not Python 2](https://pythonclock.org/).)"
   ]
  },
  {
   "cell_type": "markdown",
   "metadata": {},
   "source": [
    "### Basic data types and the print() function"
   ]
  },
  {
   "cell_type": "code",
   "execution_count": null,
   "metadata": {
    "collapsed": true
   },
   "outputs": [],
   "source": [
    "# variable assignment\n",
    "# https://www.digitalocean.com/community/tutorials/how-to-use-variables-in-python-3\n",
    "\n",
    "# strings -- enclose in single or double quotes, just make sure they match\n",
    "\n",
    "\n",
    "# numbers\n",
    "\n",
    "\n",
    "\n",
    "# the print function\n",
    "\n",
    "\n",
    "\n",
    "# booleans\n",
    "\n"
   ]
  },
  {
   "cell_type": "markdown",
   "metadata": {},
   "source": [
    "### Basic math\n",
    "\n",
    "You can do [basic math](https://www.digitalocean.com/community/tutorials/how-to-do-math-in-python-3-with-operators) with Python. (You can also do [more advanced math](https://docs.python.org/3/library/math.html).)"
   ]
  },
  {
   "cell_type": "code",
   "execution_count": null,
   "metadata": {
    "collapsed": true
   },
   "outputs": [],
   "source": [
    "# addition\n",
    "\n",
    "\n",
    "# subtraction\n",
    "\n",
    "\n",
    "# multiplication\n",
    "\n",
    "\n",
    "# division\n",
    "\n",
    "\n",
    "# etc."
   ]
  },
  {
   "cell_type": "markdown",
   "metadata": {},
   "source": [
    "### Lists\n",
    "\n",
    "A comma-separated collection of items between square brackets: `[]`. Python keeps track of the order of things inside a list."
   ]
  },
  {
   "cell_type": "code",
   "execution_count": null,
   "metadata": {
    "collapsed": true
   },
   "outputs": [],
   "source": [
    "# create a list: name, hometown, age\n",
    "# an item's position in the list is the key thing\n",
    "\n",
    "\n",
    "# create another list of mixed data\n",
    "\n",
    "\n",
    "# use len() to get the number of items in the list\n",
    "\n",
    "\n",
    "\n",
    "\n",
    "# use square brackets [] to access items in a list\n",
    "# (counting starts at zero in Python)\n",
    "\n",
    "# get the first item\n",
    "\n",
    "\n",
    "\n",
    "# you can do negative indexing to get items from the end of your list\n",
    "\n",
    "# get the last item\n",
    "\n",
    "\n",
    "\n",
    "# Use colons to get a range of items in a list\n",
    "\n",
    "# get the first two items\n",
    "# the last number in a list slice is the first list item that's ~not~ included in the result\n",
    "\n",
    "\n",
    "\n",
    "# if you leave the last number off, it takes the item at the first number's index and everything afterward\n",
    "# get everything from the third item onward\n",
    "\n",
    "\n",
    "\n",
    "# Use append() to add things to a list\n",
    "\n",
    "\n",
    "\n",
    "# Use pop() to remove items from the end of a list\n",
    "\n",
    "\n",
    "\n",
    "# use join() to join items from a list into a string with a delimiter of your choosing\n",
    "\n",
    "\n"
   ]
  },
  {
   "cell_type": "markdown",
   "metadata": {},
   "source": [
    "### Dictionaries\n",
    "\n",
    "A data structure that maps _keys_ to _values_ inside curly brackets: `{}`. Items in the dictionary are separated by commas. Python does not keep track of the order of items in a dictionary; if you need to keep track of insertion order, use an [OrderedDict](https://docs.python.org/3/library/collections.html#collections.OrderedDict) instead."
   ]
  },
  {
   "cell_type": "code",
   "execution_count": null,
   "metadata": {
    "collapsed": true
   },
   "outputs": [],
   "source": [
    "\n",
    "\n",
    "# Access items in a dictionary using square brackets and the key (typically a string)\n",
    "\n",
    "\n",
    "\n",
    "# You can also use the `get()` method to retrieve values\n",
    "# you can optionally provide a second argument as the default value\n",
    "# if the key doesn't exist (otherwise defaults to `None`)\n",
    "\n",
    "\n",
    "\n",
    "# Use the .keys() method to get the keys of a dictionary\n",
    "\n",
    "\n",
    "# Use the .values() method to get the values\n",
    "\n",
    "\n",
    "# add items to a dictionary using square brackets, the name of the key (typically a string)\n",
    "# and set the value like you'd set a variable, with =\n",
    "\n",
    "\n",
    "\n",
    "# delete an item from a dictionary with `del`\n",
    "\n"
   ]
  },
  {
   "cell_type": "markdown",
   "metadata": {},
   "source": [
    "### Commenting your code\n",
    "\n",
    "Python skips lines that begin with a hashtag # -- these lines are used to write comments to help explain the code to others (and to your future self).\n",
    "\n",
    "Multi-line comments are enclosed between triple quotes: \"\"\"   \"\"\""
   ]
  },
  {
   "cell_type": "code",
   "execution_count": null,
   "metadata": {
    "collapsed": true
   },
   "outputs": [],
   "source": []
  },
  {
   "cell_type": "markdown",
   "metadata": {},
   "source": [
    "### Comparison operators\n",
    "\n",
    "When you want to [compare values](https://docs.python.org/3/reference/expressions.html#value-comparisons), you can use these symbols:\n",
    "\n",
    "- `<` means less than\n",
    "- `>` means greater than\n",
    "- `==` means equal\n",
    "- `>=` means greater than or equal\n",
    "- `<=` means less than or equal\n",
    "- `!=` means not equal"
   ]
  },
  {
   "cell_type": "code",
   "execution_count": null,
   "metadata": {
    "collapsed": true
   },
   "outputs": [],
   "source": []
  },
  {
   "cell_type": "markdown",
   "metadata": {},
   "source": [
    "### String functions\n",
    "\n",
    "Python has a number of built-in methods to work with strings. They're useful if, say, you're using Python to clean data. Here are a few of them:"
   ]
  },
  {
   "cell_type": "markdown",
   "metadata": {},
   "source": [
    "#### _strip()_\n",
    "\n",
    "Call `strip()` on a string to remove whitespace from either side. It's like using the `=TRIM()` function in Excel."
   ]
  },
  {
   "cell_type": "code",
   "execution_count": null,
   "metadata": {
    "collapsed": true
   },
   "outputs": [],
   "source": []
  },
  {
   "cell_type": "markdown",
   "metadata": {},
   "source": [
    "#### _upper()_ and _lower()_\n",
    "\n",
    "Call `.upper()` on a string to make the characters uppercase. Call `.lower()` on a string to make the characters lowercase. This can be useful when testing strings for equality."
   ]
  },
  {
   "cell_type": "code",
   "execution_count": null,
   "metadata": {
    "collapsed": true
   },
   "outputs": [],
   "source": []
  },
  {
   "cell_type": "markdown",
   "metadata": {},
   "source": [
    "#### _replace()_\n",
    "\n",
    "Use `.replace()` to substitute bits of text."
   ]
  },
  {
   "cell_type": "code",
   "execution_count": null,
   "metadata": {
    "collapsed": true
   },
   "outputs": [],
   "source": []
  },
  {
   "cell_type": "markdown",
   "metadata": {},
   "source": [
    "#### _split()_\n",
    "\n",
    "Use `.split()` to split a string on some delimiter. If you don't specify a delimiter, it uses a single space as the default."
   ]
  },
  {
   "cell_type": "code",
   "execution_count": null,
   "metadata": {
    "collapsed": true
   },
   "outputs": [],
   "source": []
  },
  {
   "cell_type": "markdown",
   "metadata": {},
   "source": [
    "#### _zfill()_\n",
    "\n",
    "Among other things, you can use `.zfill()` to add zero padding -- for instance, if you're working with ZIP code data that was saved as a number somewhere and you've lost the leading zeroes for that handful of ZIP codes that begin with 0.\n",
    "\n",
    "_Note: `.zfill()` is a string method, so if you want to apply it to a number, you'll need to first coerce it to a string with `str()`._"
   ]
  },
  {
   "cell_type": "code",
   "execution_count": null,
   "metadata": {
    "collapsed": true
   },
   "outputs": [],
   "source": []
  },
  {
   "cell_type": "markdown",
   "metadata": {},
   "source": [
    "#### _slicing_\n",
    "\n",
    "Like lists, strings are _iterables_, so you can use slicing to grab chunks."
   ]
  },
  {
   "cell_type": "code",
   "execution_count": null,
   "metadata": {
    "collapsed": true
   },
   "outputs": [],
   "source": []
  },
  {
   "cell_type": "markdown",
   "metadata": {},
   "source": [
    "#### _startswith()_, _endswith()_ and _in_\n",
    "\n",
    "If you need to test whether a string starts with a series of characters, use `.startswith()`. If you need to test whether a string ends with a series of characters, use `.endswith()`. If you need to test whether a string is part of another string -- or a list of strings -- use `.in()`.\n",
    "\n",
    "These are case sensitive, so you'd typically `.upper()` or `.lower()` the strings you're comparing to ensure an apples-to-apples comparison."
   ]
  },
  {
   "cell_type": "code",
   "execution_count": null,
   "metadata": {
    "collapsed": true
   },
   "outputs": [],
   "source": []
  },
  {
   "cell_type": "markdown",
   "metadata": {},
   "source": [
    "### String formatting\n",
    "\n",
    "Using curly brackets with the [various options](https://pyformat.info/) available to the `.format()` method, you can create string templates for your data. Some examples:"
   ]
  },
  {
   "cell_type": "code",
   "execution_count": null,
   "metadata": {
    "collapsed": true
   },
   "outputs": [],
   "source": [
    "# date in m/d/yyyy format\n",
    "\n",
    "\n",
    "# split out individual pieces of the date\n",
    "# using a shortcut method to assign variables to the resulting list\n",
    "\n",
    "\n",
    "# reshuffle as yyyy-mm-dd using .format()\n",
    "# use a formatting option (:0>2) to left-pad month/day numbers with a zero\n",
    "\n",
    "\n"
   ]
  },
  {
   "cell_type": "code",
   "execution_count": null,
   "metadata": {
    "collapsed": true
   },
   "outputs": [],
   "source": [
    "# construct a greeting template\n"
   ]
  },
  {
   "cell_type": "markdown",
   "metadata": {},
   "source": [
    "### Type coercion\n",
    "\n",
    "Consider:\n",
    "\n",
    "```python\n",
    "# this is a number, can't do string-y things to it\n",
    "age = 32\n",
    "\n",
    "# this is a string, can't do number-y things to it\n",
    "age = '32'\n",
    "```\n",
    "There are several functions you can use to _coerce_ a value of one type to a value of another type. Here are a couple of them:\n",
    "\n",
    "- `int()` tries to convert to an integer\n",
    "- `str()` tries to convert to a string\n",
    "- `float()` tries to convert to a float"
   ]
  },
  {
   "cell_type": "code",
   "execution_count": null,
   "metadata": {
    "collapsed": true
   },
   "outputs": [],
   "source": [
    "# two strings of numbers\n",
    "\n",
    "\n",
    "# what happens when you add them without coercing?\n",
    "\n",
    "\n",
    "# coerce to integer, then add them\n"
   ]
  }
 ],
 "metadata": {
  "kernelspec": {
   "display_name": "Python 3",
   "language": "python",
   "name": "python3"
  },
  "language_info": {
   "codemirror_mode": {
    "name": "ipython",
    "version": 3
   },
   "file_extension": ".py",
   "mimetype": "text/x-python",
   "name": "python",
   "nbconvert_exporter": "python",
   "pygments_lexer": "ipython3",
   "version": "3.6.2"
  }
 },
 "nbformat": 4,
 "nbformat_minor": 2
}
